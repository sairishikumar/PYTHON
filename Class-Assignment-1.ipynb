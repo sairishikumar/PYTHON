{
 "cells": [
  {
   "cell_type": "code",
   "execution_count": 29,
   "id": "2ebb6e3b-b087-4470-9afd-ef85acbce510",
   "metadata": {},
   "outputs": [],
   "source": [
    "lists=[\"Sub-fields in AI are:\",\"Machine Learning\",\"Neural Networks\",\"Vision\",\"Robotics\",\"Speech Processing\",\"Natural Language Processing\"]"
   ]
  },
  {
   "cell_type": "code",
   "execution_count": 31,
   "id": "ead6e862-a5eb-4f69-bfb0-d626a254d650",
   "metadata": {},
   "outputs": [],
   "source": [
    "class SubfieldsInAI():\n",
    "    def subfields():\n",
    "             for temp in lists:\n",
    "                 print (temp)                                                                                 "
   ]
  },
  {
   "cell_type": "code",
   "execution_count": 37,
   "id": "b3151dcd-edca-4a9e-ae68-fa5ef30b05f6",
   "metadata": {},
   "outputs": [
    {
     "name": "stdout",
     "output_type": "stream",
     "text": [
      "Sub-fields in AI are:\n",
      "Machine Learning\n",
      "Neural Networks\n",
      "Vision\n",
      "Robotics\n",
      "Speech Processing\n",
      "Natural Language Processing\n"
     ]
    }
   ],
   "source": [
    "SubfieldsInAI.subfields()"
   ]
  },
  {
   "cell_type": "code",
   "execution_count": 41,
   "id": "d457727e-37fe-4a7e-896d-9c6d29067c79",
   "metadata": {},
   "outputs": [],
   "source": [
    "class  OddEven():\n",
    "    def OddEven():\n",
    "        num=int(input(\"enter the number\"))\n",
    "        if((num%2)==0):\n",
    "            print(num,\"is a even number\")\n",
    "        else:\n",
    "            print(num,\"is a odd number\")"
   ]
  },
  {
   "cell_type": "code",
   "execution_count": 43,
   "id": "2734397a-0baf-4b23-b5a8-3bcf7414bafa",
   "metadata": {},
   "outputs": [
    {
     "name": "stdin",
     "output_type": "stream",
     "text": [
      "enter the number 7\n"
     ]
    },
    {
     "name": "stdout",
     "output_type": "stream",
     "text": [
      "7 is a odd number\n"
     ]
    }
   ],
   "source": [
    "OddEven.OddEven()"
   ]
  },
  {
   "cell_type": "code",
   "execution_count": 49,
   "id": "bd054231-9b8a-4422-9b36-51800ba2c9c3",
   "metadata": {},
   "outputs": [],
   "source": [
    "class   ElegiblityForMarriage():\n",
    "    def MarriageEligiblity():\n",
    "        gender=input(\"Enter your gender\")\n",
    "        age=int(input(\"enter your age\"))\n",
    "        if(gender==\"male\"):\n",
    "            if(age>=21):\n",
    "                print(\"Eligible\")\n",
    "            else:\n",
    "                print(\"not Eligible\")\n",
    "        if(gender==\"female\"):\n",
    "            if(age>=18):\n",
    "                print(\"Eligible\")\n",
    "            else:\n",
    "                print(\"Not Eligible\")"
   ]
  },
  {
   "cell_type": "code",
   "execution_count": 51,
   "id": "9a2c3a56-b0ad-4b34-a8a2-39a280a7d0d0",
   "metadata": {},
   "outputs": [
    {
     "name": "stdin",
     "output_type": "stream",
     "text": [
      "Enter your gender female\n",
      "enter your age 15\n"
     ]
    },
    {
     "name": "stdout",
     "output_type": "stream",
     "text": [
      "Not Eligible\n"
     ]
    }
   ],
   "source": [
    "ElegiblityForMarriage.MarriageEligiblity()"
   ]
  },
  {
   "cell_type": "code",
   "execution_count": 53,
   "id": "ce3fe2b6-6525-44e8-9a67-abdd3c92133f",
   "metadata": {},
   "outputs": [],
   "source": [
    "class FindPercent():\n",
    "    def percentagecal():\n",
    "        subject1=98\n",
    "        subject2=87\n",
    "        subject3=95\n",
    "        subject4=95\n",
    "        subject5=93\n",
    "        add=subject1+subject2+subject3+subject4+subject5\n",
    "        per=add/5\n",
    "        print(\"Total:\",add) \n",
    "        print(\"Percentage:\",per)"
   ]
  },
  {
   "cell_type": "code",
   "execution_count": 55,
   "id": "cc0f56a9-c92f-4db4-b785-bc7a18dfe3c0",
   "metadata": {},
   "outputs": [
    {
     "name": "stdout",
     "output_type": "stream",
     "text": [
      "Total: 468\n",
      "Percentage: 93.6\n"
     ]
    }
   ],
   "source": [
    "FindPercent.percentagecal()"
   ]
  },
  {
   "cell_type": "code",
   "execution_count": 63,
   "id": "a09e782e-0248-4daf-bdfd-3b488d123a23",
   "metadata": {},
   "outputs": [],
   "source": [
    "class triangle():\n",
    "    def areaoftriangle():\n",
    "        height=32\n",
    "        Breadth=34\n",
    "        area=height*Breadth/2\n",
    "        print(\"area of triangle:\",area)\n",
    "    def Perimeteroftriangle():\n",
    "        Height1=2\n",
    "        Height2=4\n",
    "        Breadth=4\n",
    "        Perimeter=Height1+Height2+Breadth\n",
    "        print(\"perimeter of triangle:\",Perimeter)\n",
    "    def Perimeteroftriangle1():\n",
    "        height1=int(input(\"Enter the Height1:\"))\n",
    "        height2=int(input(\"Enter the height2:\"))\n",
    "        Breath=int(input(\"Enter the Breath:\")) \n",
    "        Perimeter=height1+height2+Breath\n",
    "        print(\"Perimeter of triangle:\",Perimeter)"
   ]
  },
  {
   "cell_type": "code",
   "execution_count": 65,
   "id": "33e54f94-f207-449c-a967-47652997d6b2",
   "metadata": {},
   "outputs": [
    {
     "name": "stdout",
     "output_type": "stream",
     "text": [
      "area of triangle: 544.0\n"
     ]
    }
   ],
   "source": [
    "triangle.areaoftriangle()"
   ]
  },
  {
   "cell_type": "code",
   "execution_count": 67,
   "id": "33165876-bf79-49d9-9c50-9a7f0d194187",
   "metadata": {},
   "outputs": [
    {
     "name": "stdin",
     "output_type": "stream",
     "text": [
      "Enter the Height1: 3\n",
      "Enter the height2: 4\n",
      "Enter the Breath: 5\n"
     ]
    },
    {
     "name": "stdout",
     "output_type": "stream",
     "text": [
      "Perimeter of triangle: 12\n"
     ]
    }
   ],
   "source": [
    "triangle.Perimeteroftriangle1()   "
   ]
  },
  {
   "cell_type": "code",
   "execution_count": 69,
   "id": "e87fb951-a0b2-43b0-8602-6686964bf5a9",
   "metadata": {},
   "outputs": [
    {
     "name": "stdout",
     "output_type": "stream",
     "text": [
      "perimeter of triangle: 10\n"
     ]
    }
   ],
   "source": [
    "triangle.Perimeteroftriangle()"
   ]
  },
  {
   "cell_type": "code",
   "execution_count": null,
   "id": "e8784211-2baa-4fec-bd52-1d0606912163",
   "metadata": {},
   "outputs": [],
   "source": []
  }
 ],
 "metadata": {
  "kernelspec": {
   "display_name": "Python 3 (ipykernel)",
   "language": "python",
   "name": "python3"
  },
  "language_info": {
   "codemirror_mode": {
    "name": "ipython",
    "version": 3
   },
   "file_extension": ".py",
   "mimetype": "text/x-python",
   "name": "python",
   "nbconvert_exporter": "python",
   "pygments_lexer": "ipython3",
   "version": "3.12.4"
  }
 },
 "nbformat": 4,
 "nbformat_minor": 5
}
