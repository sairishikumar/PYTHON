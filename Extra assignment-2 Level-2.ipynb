{
 "cells": [
  {
   "cell_type": "code",
   "execution_count": 35,
   "id": "f72eccb0-68e3-4af0-b7e4-01fc4ff38244",
   "metadata": {},
   "outputs": [
    {
     "name": "stdout",
     "output_type": "stream",
     "text": [
      "0\n",
      "1\n",
      "2\n",
      "3\n",
      "4\n",
      "5\n",
      "6\n",
      "7\n",
      "8\n",
      "9\n",
      "10\n",
      "11\n",
      "12\n",
      "13\n",
      "14\n",
      "15\n",
      "16\n",
      "17\n",
      "18\n",
      "19\n"
     ]
    }
   ],
   "source": [
    "for num in range(0,20):\n",
    "    print(num)\n",
    "    \n"
   ]
  },
  {
   "cell_type": "code",
   "execution_count": 45,
   "id": "1d614afa-c770-401b-b8c9-e4aab7adf1f1",
   "metadata": {},
   "outputs": [
    {
     "name": "stdout",
     "output_type": "stream",
     "text": [
      "10 11 12 13 14 15 16 17 18 19 "
     ]
    }
   ],
   "source": [
    "for num in range(10,20):\n",
    "    print(num,end=' ') \n",
    "   "
   ]
  },
  {
   "cell_type": "code",
   "execution_count": 3,
   "id": "5e43382f-5839-4b6b-b3c6-065c31ed9366",
   "metadata": {},
   "outputs": [
    {
     "name": "stdout",
     "output_type": "stream",
     "text": [
      "number of Item in the list: 7\n"
     ]
    }
   ],
   "source": [
    "numbers=[10,20,14,55,43,87,76]\n",
    "n=len(numbers)\n",
    "print(\"number of Item in the list:\",n)"
   ]
  },
  {
   "cell_type": "code",
   "execution_count": 50,
   "id": "57494eb1-7adf-440a-b3eb-5e74fc763895",
   "metadata": {},
   "outputs": [
    {
     "name": "stdout",
     "output_type": "stream",
     "text": [
      "A\n",
      "r\n",
      "t\n",
      "i\n",
      "f\n",
      "i\n",
      "c\n",
      "i\n",
      "a\n",
      "l\n",
      " \n",
      "I\n",
      "n\n",
      "t\n",
      "e\n",
      "l\n",
      "l\n",
      "i\n",
      "g\n",
      "e\n",
      "n\n",
      "c\n",
      "e\n"
     ]
    }
   ],
   "source": [
    "name=\"Artificial Intelligence\"\n",
    "for sub in name:\n",
    "    print(sub)"
   ]
  },
  {
   "cell_type": "code",
   "execution_count": 15,
   "id": "f14e4bac-587d-4740-9c58-8b3c181cf0cf",
   "metadata": {},
   "outputs": [
    {
     "name": "stdout",
     "output_type": "stream",
     "text": [
      "-Your Name-\n",
      "-Your Age-\n",
      "-Your Profession-\n"
     ]
    }
   ],
   "source": [
    "lines=[\"-Your Name-\",\"-Your Age-\",\"-Your Profession-\"]\n",
    "for temp in lines:\n",
    "     print(temp)\n"
   ]
  },
  {
   "cell_type": "code",
   "execution_count": 62,
   "id": "be12065d-edc9-46c0-8e22-046c0c562c5d",
   "metadata": {},
   "outputs": [
    {
     "name": "stdout",
     "output_type": "stream",
     "text": [
      "1, 'Welcome', 2, 'Hope'\n"
     ]
    }
   ],
   "source": [
    "name=(\"1, 'Welcome', 2, 'Hope'\")\n",
    "print(name)"
   ]
  },
  {
   "cell_type": "code",
   "execution_count": 82,
   "id": "2c65941a-b9a2-407c-8c68-786ca53608ad",
   "metadata": {},
   "outputs": [
    {
     "name": "stdout",
     "output_type": "stream",
     "text": [
      "((0, 1, 2, 3), ('Python', 'hope'))\n"
     ]
    }
   ],
   "source": [
    "name1=(0,1,2,3)\n",
    "name2=('Python', 'hope')\n",
    "name3=(name1,name2)\n",
    "print(name3)"
   ]
  },
  {
   "cell_type": "code",
   "execution_count": 90,
   "id": "b83357ee-9bd2-42f1-a14b-0beaecb9784e",
   "metadata": {},
   "outputs": [
    {
     "name": "stdout",
     "output_type": "stream",
     "text": [
      "20 is even\n",
      "10 is even\n",
      "16 is even\n",
      "276 is even\n",
      "188 is even\n"
     ]
    }
   ],
   "source": [
    "lists=[20,10,16,19,25,1,276,188]\n",
    "for num in lists:\n",
    "    if((num%2)==0):\n",
    "        print(num,\"is even\")\n",
    "    #else:\n",
    "        #print(num,\"is odd\")"
   ]
  },
  {
   "cell_type": "code",
   "execution_count": 104,
   "id": "9403b021-4378-4e10-8f7f-3f479abd5de8",
   "metadata": {},
   "outputs": [
    {
     "name": "stdout",
     "output_type": "stream",
     "text": [
      "19 is odd\n",
      "25 is odd\n",
      "1 is odd\n"
     ]
    }
   ],
   "source": [
    "lists=[20,10,16,19,25,1,276,188]\n",
    "for num in lists:\n",
    "    if((num%2)==1):\n",
    "        print(num,\"is odd\")\n",
    "    #else:\n",
    "         #print(num,\"is odd\")"
   ]
  },
  {
   "cell_type": "code",
   "execution_count": null,
   "id": "fc1f208f-0f8b-43fd-8ac9-414024dfa569",
   "metadata": {},
   "outputs": [],
   "source": []
  }
 ],
 "metadata": {
  "kernelspec": {
   "display_name": "Python 3 (ipykernel)",
   "language": "python",
   "name": "python3"
  },
  "language_info": {
   "codemirror_mode": {
    "name": "ipython",
    "version": 3
   },
   "file_extension": ".py",
   "mimetype": "text/x-python",
   "name": "python",
   "nbconvert_exporter": "python",
   "pygments_lexer": "ipython3",
   "version": "3.12.4"
  }
 },
 "nbformat": 4,
 "nbformat_minor": 5
}
