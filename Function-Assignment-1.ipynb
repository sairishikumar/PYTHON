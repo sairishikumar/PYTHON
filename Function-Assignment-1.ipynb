{
 "cells": [
  {
   "cell_type": "code",
   "execution_count": 1,
   "id": "2ebb6e3b-b087-4470-9afd-ef85acbce510",
   "metadata": {},
   "outputs": [],
   "source": [
    "lists=[\"Sub-fields in AI are:\",\"Machine Learning\",\"Neural Networks\",\"Vision\",\"Robotics\",\"Speech Processing\",\"Natural Language Processing\"]"
   ]
  },
  {
   "cell_type": "code",
   "execution_count": 2,
   "id": "ead6e862-a5eb-4f69-bfb0-d626a254d650",
   "metadata": {},
   "outputs": [],
   "source": [
    "def subfields():\n",
    "     for temp in lists:\n",
    "         print (temp)                                                                                 "
   ]
  },
  {
   "cell_type": "code",
   "execution_count": 3,
   "id": "b3151dcd-edca-4a9e-ae68-fa5ef30b05f6",
   "metadata": {},
   "outputs": [
    {
     "name": "stdout",
     "output_type": "stream",
     "text": [
      "Sub-fields in AI are:\n",
      "Machine Learning\n",
      "Neural Networks\n",
      "Vision\n",
      "Robotics\n",
      "Speech Processing\n",
      "Natural Language Processing\n"
     ]
    }
   ],
   "source": [
    "subfields()"
   ]
  },
  {
   "cell_type": "code",
   "execution_count": 4,
   "id": "f9e4f52a-d486-4c08-b29e-d7af57ea3790",
   "metadata": {},
   "outputs": [
    {
     "name": "stdout",
     "output_type": "stream",
     "text": [
      "Sub-fields in AI are:\n",
      "Machine Learning\n",
      "Neural Networks\n",
      "Vision\n",
      "Robotics\n",
      "Speech Processing\n",
      "Natural Language Processing\n"
     ]
    }
   ],
   "source": [
    "sublist=subfields()"
   ]
  },
  {
   "cell_type": "code",
   "execution_count": 5,
   "id": "d457727e-37fe-4a7e-896d-9c6d29067c79",
   "metadata": {},
   "outputs": [],
   "source": [
    "def OddEven():\n",
    "    num=int(input(\"enter the number\"))\n",
    "    if((num%2)==0):\n",
    "        print(num,\"is a even number\")\n",
    "    else:\n",
    "        print(num,\"is a odd number\")"
   ]
  },
  {
   "cell_type": "code",
   "execution_count": 6,
   "id": "2734397a-0baf-4b23-b5a8-3bcf7414bafa",
   "metadata": {},
   "outputs": [
    {
     "name": "stdin",
     "output_type": "stream",
     "text": [
      "enter the number 45\n"
     ]
    },
    {
     "name": "stdout",
     "output_type": "stream",
     "text": [
      "45 is a odd number\n"
     ]
    }
   ],
   "source": [
    "OddEven()"
   ]
  },
  {
   "cell_type": "code",
   "execution_count": 7,
   "id": "6f1e0ebf-3490-4242-aa83-94c2fba8f2fc",
   "metadata": {},
   "outputs": [
    {
     "name": "stdin",
     "output_type": "stream",
     "text": [
      "enter the number 8575\n"
     ]
    },
    {
     "name": "stdout",
     "output_type": "stream",
     "text": [
      "8575 is a odd number\n"
     ]
    }
   ],
   "source": [
    "posneg1=OddEven()"
   ]
  },
  {
   "cell_type": "code",
   "execution_count": 62,
   "id": "bd054231-9b8a-4422-9b36-51800ba2c9c3",
   "metadata": {},
   "outputs": [],
   "source": [
    "def MarriageEligiblity():\n",
    "    gender=input(\"Enter your gender\")\n",
    "    age=int(input(\"enter your age\"))\n",
    "    if(gender==\"male\"):\n",
    "        if(age>=21):\n",
    "            print(\"Eligible\")\n",
    "        else:\n",
    "            print(\"not Eligible\")\n",
    "    if(gender==\"female\"):\n",
    "        if(age>=18):\n",
    "            print(\"Eligible\")\n",
    "        else:\n",
    "            print(\"Not Eligible\")"
   ]
  },
  {
   "cell_type": "code",
   "execution_count": 66,
   "id": "9a2c3a56-b0ad-4b34-a8a2-39a280a7d0d0",
   "metadata": {},
   "outputs": [
    {
     "name": "stdin",
     "output_type": "stream",
     "text": [
      "Enter your gender male\n",
      "enter your age 18\n"
     ]
    },
    {
     "name": "stdout",
     "output_type": "stream",
     "text": [
      "not Eligible\n"
     ]
    }
   ],
   "source": [
    "MarriageEligiblity()"
   ]
  },
  {
   "cell_type": "code",
   "execution_count": 31,
   "id": "a1a9c2ba-a6a8-4e3c-8dfd-0f32e8b11095",
   "metadata": {},
   "outputs": [
    {
     "name": "stdin",
     "output_type": "stream",
     "text": [
      "Enter your gender female\n",
      "enter your age 10\n"
     ]
    },
    {
     "name": "stdout",
     "output_type": "stream",
     "text": [
      "Not Eligible\n"
     ]
    }
   ],
   "source": [
    "agecal2=MarriageEligiblity()"
   ]
  },
  {
   "cell_type": "code",
   "execution_count": 32,
   "id": "ce3fe2b6-6525-44e8-9a67-abdd3c92133f",
   "metadata": {},
   "outputs": [],
   "source": [
    "def percentagecal():\n",
    "    subject1=98\n",
    "    subject2=87\n",
    "    subject3=95\n",
    "    subject4=95\n",
    "    subject5=93\n",
    "    add=subject1+subject2+subject3+subject4+subject5\n",
    "    per=add/5\n",
    "    print(\"Total:\",add) \n",
    "    print(\"Percentage:\",per)"
   ]
  },
  {
   "cell_type": "code",
   "execution_count": 34,
   "id": "cc0f56a9-c92f-4db4-b785-bc7a18dfe3c0",
   "metadata": {},
   "outputs": [
    {
     "name": "stdout",
     "output_type": "stream",
     "text": [
      "Total: 468\n",
      "Percentage: 93.6\n"
     ]
    }
   ],
   "source": [
    "percentagecal()"
   ]
  },
  {
   "cell_type": "code",
   "execution_count": 36,
   "id": "732f325c-be50-4bcb-b524-e52647d2a268",
   "metadata": {},
   "outputs": [
    {
     "name": "stdout",
     "output_type": "stream",
     "text": [
      "Total: 468\n",
      "Percentage: 93.6\n"
     ]
    }
   ],
   "source": [
    "cal=percentagecal()"
   ]
  },
  {
   "cell_type": "code",
   "execution_count": 15,
   "id": "a09e782e-0248-4daf-bdfd-3b488d123a23",
   "metadata": {},
   "outputs": [],
   "source": [
    "def areaoftriangle():\n",
    "    height=32\n",
    "    Breadth=34\n",
    "    area=height*Breadth/2\n",
    "    print(\"area of triangle:\",area)"
   ]
  },
  {
   "cell_type": "code",
   "execution_count": 17,
   "id": "33f9dd82-8610-4e31-b42a-aadacc471723",
   "metadata": {},
   "outputs": [
    {
     "name": "stdout",
     "output_type": "stream",
     "text": [
      "area of triangle: 544.0\n"
     ]
    }
   ],
   "source": [
    "areaoftriangle()"
   ]
  },
  {
   "cell_type": "code",
   "execution_count": 27,
   "id": "4b042754-09ca-453a-af0f-fccaeb209492",
   "metadata": {},
   "outputs": [],
   "source": [
    "def Perimeteroftriangle():\n",
    "    Height1=2\n",
    "    Height2=4\n",
    "    Breadth=4\n",
    "    Perimeter=Height1+Height2+Breadth\n",
    "    print(\"perimeter of triangle:\",Perimeter)"
   ]
  },
  {
   "cell_type": "code",
   "execution_count": 29,
   "id": "55235687-608f-459b-b252-cf6c8367412a",
   "metadata": {},
   "outputs": [
    {
     "name": "stdout",
     "output_type": "stream",
     "text": [
      "perimeter of triangle: 10\n"
     ]
    }
   ],
   "source": [
    "Perimeteroftriangle()"
   ]
  },
  {
   "cell_type": "code",
   "execution_count": 1,
   "id": "f5f571fe-482d-4af5-96c0-d0a930bf049b",
   "metadata": {},
   "outputs": [],
   "source": [
    "def areaoftriangle1():\n",
    "    height=int(input(\"Enter the Height\"))\n",
    "    Breath=int(input(\"Enter the Breath:\"))           \n",
    "    area=height*Breath/2\n",
    "    print(\"area of triangle:\",area)"
   ]
  },
  {
   "cell_type": "code",
   "execution_count": 3,
   "id": "8a950faf-68c5-433d-9221-dba52f3e0fab",
   "metadata": {},
   "outputs": [
    {
     "name": "stdin",
     "output_type": "stream",
     "text": [
      "Enter the Height 8\n",
      "Enter the Breath: 9\n"
     ]
    },
    {
     "name": "stdout",
     "output_type": "stream",
     "text": [
      "area of triangle: 36.0\n"
     ]
    }
   ],
   "source": [
    "areaoftriangle1()"
   ]
  },
  {
   "cell_type": "code",
   "execution_count": 62,
   "id": "33e54f94-f207-449c-a967-47652997d6b2",
   "metadata": {},
   "outputs": [],
   "source": [
    "def Perimeteroftriangle1():\n",
    "    height1=int(input(\"Enter the Height1:\"))\n",
    "    height2=int(input(\"Enter the height2:\"))\n",
    "    Breath=int(input(\"Enter the Breath:\")) \n",
    "    Perimeter=height1+height2+Breath\n",
    "    print(\"Perimeter of triangle:\",Perimeter)"
   ]
  },
  {
   "cell_type": "code",
   "execution_count": 64,
   "id": "4c4a4a3b-350c-4bff-891b-5a290a347feb",
   "metadata": {},
   "outputs": [
    {
     "name": "stdin",
     "output_type": "stream",
     "text": [
      "Enter the Height1: 2\n",
      "Enter the height2: 4\n",
      "Enter the Breath: 4\n"
     ]
    },
    {
     "name": "stdout",
     "output_type": "stream",
     "text": [
      "Perimeter of triangle: 10\n"
     ]
    }
   ],
   "source": [
    "Perimeteroftriangle1()"
   ]
  },
  {
   "cell_type": "code",
   "execution_count": 66,
   "id": "26142835-015b-4962-a46f-bb44ed5cf4b2",
   "metadata": {},
   "outputs": [
    {
     "name": "stdin",
     "output_type": "stream",
     "text": [
      "Enter the Height1: 5\n",
      "Enter the height2: 5\n",
      "Enter the Breath: 6\n"
     ]
    },
    {
     "name": "stdout",
     "output_type": "stream",
     "text": [
      "Perimeter of triangle: 16\n"
     ]
    }
   ],
   "source": [
    "calculator=Perimeteroftriangle1()"
   ]
  },
  {
   "cell_type": "code",
   "execution_count": null,
   "id": "b9687ee5-3de1-4e47-943f-66d94ae3294d",
   "metadata": {},
   "outputs": [],
   "source": []
  }
 ],
 "metadata": {
  "kernelspec": {
   "display_name": "Python 3 (ipykernel)",
   "language": "python",
   "name": "python3"
  },
  "language_info": {
   "codemirror_mode": {
    "name": "ipython",
    "version": 3
   },
   "file_extension": ".py",
   "mimetype": "text/x-python",
   "name": "python",
   "nbconvert_exporter": "python",
   "pygments_lexer": "ipython3",
   "version": "3.12.4"
  }
 },
 "nbformat": 4,
 "nbformat_minor": 5
}
