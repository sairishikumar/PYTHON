{
 "cells": [
  {
   "cell_type": "code",
   "execution_count": 1,
   "id": "f70b6cf1-50ed-4966-b321-2fe29bbb5ef8",
   "metadata": {},
   "outputs": [
    {
     "name": "stdout",
     "output_type": "stream",
     "text": [
      "HOPE AI\n"
     ]
    }
   ],
   "source": [
    "print(\"HOPE AI\")"
   ]
  },
  {
   "cell_type": "code",
   "execution_count": 2,
   "id": "7adbc4b5-0e27-4030-aade-cd3ec536afbe",
   "metadata": {},
   "outputs": [
    {
     "name": "stdin",
     "output_type": "stream",
     "text": [
      "Enter your Institute name: HOPE AI\n"
     ]
    }
   ],
   "source": [
    "function=input(\"Enter yo Institute name:\")"
   ]
  },
  {
   "cell_type": "code",
   "execution_count": 7,
   "id": "60734f96-63b6-43f7-8fcc-02c5fcab234c",
   "metadata": {},
   "outputs": [
    {
     "name": "stdin",
     "output_type": "stream",
     "text": [
      "Enter your name: RISHI KUMAR.P\n",
      "Enter your age: 30\n",
      "Enter your Institute name: ANNA UNIVERSITY\n",
      "Enter your Dept: B.E CSE\n"
     ]
    }
   ],
   "source": [
    "function=input(\"Enter your name:\")\n",
    "function=int(input(\"Enter your age:\"))\n",
    "function=input(\"Enter your Institute name:\")\n",
    "function=input(\"Enter your Dept:\")"
   ]
  },
  {
   "cell_type": "code",
   "execution_count": 19,
   "id": "7cbaef47-7fff-41e1-a5d9-939d89ef7d32",
   "metadata": {},
   "outputs": [
    {
     "name": "stdin",
     "output_type": "stream",
     "text": [
      "a= 78\n",
      "b= 58\n"
     ]
    },
    {
     "name": "stdout",
     "output_type": "stream",
     "text": [
      "add= 136\n"
     ]
    }
   ],
   "source": [
    "num1=int(input(\"a=\"))\n",
    "num2=int(input(\"b=\"))\n",
    "sum=num1+num2\n",
    "print(\"add=\",sum)"
   ]
  },
  {
   "cell_type": "code",
   "execution_count": 21,
   "id": "c2d46811-9ccd-4843-a636-d00449ee3309",
   "metadata": {},
   "outputs": [
    {
     "name": "stdin",
     "output_type": "stream",
     "text": [
      "a= 100\n",
      "b= 5\n"
     ]
    },
    {
     "name": "stdout",
     "output_type": "stream",
     "text": [
      "sub= 95\n"
     ]
    }
   ],
   "source": [
    "num1=int(input(\"a=\"))\n",
    "num2=int(input(\"b=\"))\n",
    "sum=num1-num2\n",
    "print(\"sub=\",sum)"
   ]
  },
  {
   "cell_type": "code",
   "execution_count": 23,
   "id": "ff47e7dd-b8e3-4a89-800a-1a91e025b9f4",
   "metadata": {},
   "outputs": [
    {
     "name": "stdin",
     "output_type": "stream",
     "text": [
      "a= 5\n",
      "b= 5\n"
     ]
    },
    {
     "name": "stdout",
     "output_type": "stream",
     "text": [
      "mul= 25\n"
     ]
    }
   ],
   "source": [
    "num1=int(input(\"a=\"))\n",
    "num2=int(input(\"b=\"))\n",
    "sum=num1*num2\n",
    "print(\"mul=\",sum)"
   ]
  },
  {
   "cell_type": "code",
   "execution_count": 33,
   "id": "57030d67-1803-4843-8d03-2f5fa86fc56c",
   "metadata": {},
   "outputs": [
    {
     "name": "stdin",
     "output_type": "stream",
     "text": [
      "a= 76\n",
      "b= 31\n"
     ]
    },
    {
     "name": "stdout",
     "output_type": "stream",
     "text": [
      "float div= 2.4516129032258065\n"
     ]
    }
   ],
   "source": [
    "num1=float(input(\"a=\"))\n",
    "num2=float(input(\"b=\"))\n",
    "sum=num1/num2\n",
    "print(\"float div=\",sum)"
   ]
  },
  {
   "cell_type": "code",
   "execution_count": 41,
   "id": "6aaa693b-5cc7-4e15-9c1e-f10717f22e2e",
   "metadata": {},
   "outputs": [
    {
     "name": "stdin",
     "output_type": "stream",
     "text": [
      "a= 76\n",
      "b= 31\n"
     ]
    },
    {
     "name": "stdout",
     "output_type": "stream",
     "text": [
      "floor div= 2\n"
     ]
    }
   ],
   "source": [
    "num1=int(input(\"a=\"))\n",
    "num2=int(input(\"b=\"))\n",
    "sum=num1//num2\n",
    "print(\"floor Div=\",sum)"
   ]
  },
  {
   "cell_type": "code",
   "execution_count": 47,
   "id": "96cd4e79-5963-44b4-b595-d524f3f351b8",
   "metadata": {},
   "outputs": [
    {
     "name": "stdin",
     "output_type": "stream",
     "text": [
      "a= 76\n",
      "b= 31\n"
     ]
    },
    {
     "name": "stdout",
     "output_type": "stream",
     "text": [
      "Modulo= 14\n"
     ]
    }
   ],
   "source": [
    "num1=int(input(\"a=\"))\n",
    "num2=int(input(\"b=\"))\n",
    "sum=num1%num2\n",
    "print(\"Modulo=\",sum)"
   ]
  },
  {
   "cell_type": "code",
   "execution_count": 45,
   "id": "90852954-fd06-4f18-80bd-c8e240177ad3",
   "metadata": {},
   "outputs": [
    {
     "name": "stdin",
     "output_type": "stream",
     "text": [
      "a= 4\n",
      "b= 4\n"
     ]
    },
    {
     "name": "stdout",
     "output_type": "stream",
     "text": [
      "Power= 256\n"
     ]
    }
   ],
   "source": [
    "num1=int(input(\"a=\"))\n",
    "num2=int(input(\"b=\"))\n",
    "sum=num1**num2\n",
    "print(\"Power=\",sum)"
   ]
  },
  {
   "cell_type": "code",
   "execution_count": 1,
   "id": "01c9f662-6aa9-49a6-880e-a383f176b984",
   "metadata": {},
   "outputs": [
    {
     "name": "stdin",
     "output_type": "stream",
     "text": [
      "a= 5\n",
      "b= 5\n"
     ]
    },
    {
     "name": "stdout",
     "output_type": "stream",
     "text": [
      "add= 10\n",
      "sub= 0\n",
      "mul= 25\n",
      "float div= 1.0\n",
      "floor Div= 1\n",
      "Modulo= 0\n"
     ]
    }
   ],
   "source": [
    "num1=int(input(\"a=\"))\n",
    "num2=int(input(\"b=\"))\n",
    "sum=num1+num2\n",
    "print(\"add=\",sum)\n",
    "sum=num1-num2\n",
    "print(\"sub=\",sum)\n",
    "sum=num1*num2\n",
    "print(\"mul=\",sum)\n",
    "sum=num1/num2\n",
    "print(\"float div=\",sum)\n",
    "sum=num1//num2\n",
    "print(\"floor Div=\",sum)\n",
    "sum=num1%num2\n",
    "print(\"Modulo=\",sum)\n",
    "\n"
   ]
  },
  {
   "cell_type": "code",
   "execution_count": null,
   "id": "39f48de0-1c61-4ae0-a6f7-dd55921ffd9e",
   "metadata": {},
   "outputs": [],
   "source": []
  }
 ],
 "metadata": {
  "kernelspec": {
   "display_name": "Python 3 (ipykernel)",
   "language": "python",
   "name": "python3"
  },
  "language_info": {
   "codemirror_mode": {
    "name": "ipython",
    "version": 3
   },
   "file_extension": ".py",
   "mimetype": "text/x-python",
   "name": "python",
   "nbconvert_exporter": "python",
   "pygments_lexer": "ipython3",
   "version": "3.12.4"
  }
 },
 "nbformat": 4,
 "nbformat_minor": 5
}
