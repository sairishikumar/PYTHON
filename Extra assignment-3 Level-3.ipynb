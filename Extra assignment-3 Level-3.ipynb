{
 "cells": [
  {
   "cell_type": "code",
   "execution_count": 37,
   "id": "d50bb6da-5fd5-4475-81f3-4b0284280895",
   "metadata": {},
   "outputs": [
    {
     "name": "stdin",
     "output_type": "stream",
     "text": [
      "value: 10\n"
     ]
    },
    {
     "name": "stdout",
     "output_type": "stream",
     "text": [
      "correct\n"
     ]
    }
   ],
   "source": [
    "i=int(input(\"value:\"))\n",
    "if i==10:\n",
    "    print(\"correct\")\n",
    "else:\n",
    "    print(\"wrong\")"
   ]
  },
  {
   "cell_type": "code",
   "execution_count": 39,
   "id": "5c20a503-f126-4517-9b0e-ce1ac18ec250",
   "metadata": {},
   "outputs": [
    {
     "name": "stdin",
     "output_type": "stream",
     "text": [
      "value: 9\n"
     ]
    },
    {
     "name": "stdout",
     "output_type": "stream",
     "text": [
      "wrong\n"
     ]
    }
   ],
   "source": [
    "i=int(input(\"value:\"))\n",
    "if i==10:\n",
    "    print(\"correct\")\n",
    "else:\n",
    "    print(\"wrong\")"
   ]
  },
  {
   "cell_type": "code",
   "execution_count": 4,
   "id": "c8a17f7e-5753-4b7f-930e-a720ca478353",
   "metadata": {},
   "outputs": [
    {
     "name": "stdin",
     "output_type": "stream",
     "text": [
      "Enter the Password: 1\n"
     ]
    },
    {
     "name": "stdout",
     "output_type": "stream",
     "text": [
      "Your Password is wrong\n"
     ]
    }
   ],
   "source": [
    "password=str(input(\"Enter the Password:\"))\n",
    "if password==\"HOPE@123\":\n",
    "    print(\"Your Password is correct\")\n",
    "else:\n",
    "    print(\"Your Password is wrong\")\n"
   ]
  },
  {
   "cell_type": "code",
   "execution_count": 6,
   "id": "2f8396a7-2c62-438d-b21d-0686ffaa04f3",
   "metadata": {},
   "outputs": [
    {
     "name": "stdin",
     "output_type": "stream",
     "text": [
      "Enter the Password: 5\n"
     ]
    },
    {
     "name": "stdout",
     "output_type": "stream",
     "text": [
      "Your Password is wrong\n"
     ]
    }
   ],
   "source": [
    "password=str(input(\"Enter the Password:\"))\n",
    "if password==\"HOPE@123\":\n",
    "    print(\"Your Password is correct\")\n",
    "else:\n",
    "    print(\"Your Password is wrong\")"
   ]
  },
  {
   "cell_type": "code",
   "execution_count": 10,
   "id": "620b7a48-a184-4d9b-b9ea-2bdf0096b8d1",
   "metadata": {},
   "outputs": [
    {
     "name": "stdin",
     "output_type": "stream",
     "text": [
      "Enter the number: 5\n"
     ]
    },
    {
     "name": "stdout",
     "output_type": "stream",
     "text": [
      "Positive\n"
     ]
    }
   ],
   "source": [
    "i=int(input(\"Enter the number:\"))\n",
    "if i>=1:\n",
    "    print(\"Positive\")\n",
    "else:\n",
    "    print(\"Negative\")"
   ]
  },
  {
   "cell_type": "code",
   "execution_count": null,
   "id": "3f57daab-0e9f-4930-94f7-600cfaba9119",
   "metadata": {},
   "outputs": [],
   "source": [
    "i=int(input(\"Enter the number:\"))\n",
    "if i>=1:\n",
    "    print(\"Positive\")\n",
    "else:\n",
    "    print(\"Negative\")"
   ]
  },
  {
   "cell_type": "code",
   "execution_count": 84,
   "id": "d42aa8e7-96d8-46f5-bd67-b595e27d0e95",
   "metadata": {},
   "outputs": [
    {
     "name": "stdin",
     "output_type": "stream",
     "text": [
      "Enter the number to check: 10\n"
     ]
    },
    {
     "name": "stdout",
     "output_type": "stream",
     "text": [
      "no the number is divisible by 5\n"
     ]
    }
   ],
   "source": [
    "num=int(input(\"Enter the number to check:\"))\n",
    "if((num5)==0):\n",
    "    print(\"the number is divisible by 5\")\n",
    "else:\n",
    "    print(\"no the number is divisible by 5\")"
   ]
  },
  {
   "cell_type": "code",
   "execution_count": 78,
   "id": "7ad7a0a8-fb56-47b8-a660-1436802277f9",
   "metadata": {},
   "outputs": [
    {
     "name": "stdin",
     "output_type": "stream",
     "text": [
      "Enter the number to check: 33\n"
     ]
    },
    {
     "name": "stdout",
     "output_type": "stream",
     "text": [
      "No the number is divisible by 5\n"
     ]
    }
   ],
   "source": [
    "num=int(input(\"Enter the number to check:\"))\n",
    "if((num%5)==0):\n",
    "    print(\"the number is divisible by 5\")\n",
    "else:\n",
    "    print(\"No the number is divisible by 5\")"
   ]
  },
  {
   "cell_type": "code",
   "execution_count": 23,
   "id": "53fa43e8-649a-4432-847e-1e7ce2bd25de",
   "metadata": {},
   "outputs": [
    {
     "name": "stdin",
     "output_type": "stream",
     "text": [
      "Enter the age: 20\n"
     ]
    },
    {
     "name": "stdout",
     "output_type": "stream",
     "text": [
      "adult\n"
     ]
    }
   ],
   "source": [
    "age=int(input(\"Enter the age:\"))\n",
    "if(age<=17):\n",
    "    print(\"children\")\n",
    "elif(age<=30):\n",
    "    print(\"adult\")\n",
    "elif(age<=45):\n",
    "    print(\"citizen\")\n",
    "else:\n",
    "    print(\"seniour citizen\")"
   ]
  },
  {
   "cell_type": "code",
   "execution_count": null,
   "id": "e51a1201-0792-4edb-b34c-e488c6f0235f",
   "metadata": {},
   "outputs": [],
   "source": []
  }
 ],
 "metadata": {
  "kernelspec": {
   "display_name": "Python 3 (ipykernel)",
   "language": "python",
   "name": "python3"
  },
  "language_info": {
   "codemirror_mode": {
    "name": "ipython",
    "version": 3
   },
   "file_extension": ".py",
   "mimetype": "text/x-python",
   "name": "python",
   "nbconvert_exporter": "python",
   "pygments_lexer": "ipython3",
   "version": "3.12.4"
  }
 },
 "nbformat": 4,
 "nbformat_minor": 5
}
