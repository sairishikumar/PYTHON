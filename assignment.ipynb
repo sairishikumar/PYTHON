{
 "cells": [
  {
   "cell_type": "code",
   "execution_count": 1,
   "id": "93930c79-4193-41b3-a84b-5c3f030977ec",
   "metadata": {},
   "outputs": [],
   "source": [
    "from finalassignment import SubfieldsInAI"
   ]
  },
  {
   "cell_type": "code",
   "execution_count": 2,
   "id": "59ec0167-8669-4c07-9874-6a0cd63c0d98",
   "metadata": {},
   "outputs": [
    {
     "name": "stdout",
     "output_type": "stream",
     "text": [
      "Sub-fields in AI are:\n",
      "Machine Learning\n",
      "Neural Networks\n",
      "Vision\n",
      "Robotics\n",
      "Speech Processing\n",
      "Natural Language Processing\n"
     ]
    }
   ],
   "source": [
    "SubfieldsInAI.subfields()"
   ]
  },
  {
   "cell_type": "code",
   "execution_count": 3,
   "id": "004e9b5e-9198-49a7-b7f4-2f2d95beeda7",
   "metadata": {},
   "outputs": [],
   "source": [
    "from finalassignment import OddEven"
   ]
  },
  {
   "cell_type": "code",
   "execution_count": 4,
   "id": "74077b9a-e50f-43e8-9538-e0a2a106e1cb",
   "metadata": {},
   "outputs": [
    {
     "name": "stdin",
     "output_type": "stream",
     "text": [
      "Enter the number:  7\n"
     ]
    },
    {
     "name": "stdout",
     "output_type": "stream",
     "text": [
      "7 is an odd number\n"
     ]
    }
   ],
   "source": [
    "OddEven.odd_even()"
   ]
  },
  {
   "cell_type": "code",
   "execution_count": 5,
   "id": "723a15a7-78a5-4737-8d72-150d4697c4e6",
   "metadata": {},
   "outputs": [],
   "source": [
    "from finalassignment import EligibilityForMarriage"
   ]
  },
  {
   "cell_type": "code",
   "execution_count": 6,
   "id": "fa47d7b7-8b4a-4d87-93af-cd50c0a97579",
   "metadata": {},
   "outputs": [
    {
     "name": "stdin",
     "output_type": "stream",
     "text": [
      "Enter your gender:  male\n",
      "Enter your age:  23\n"
     ]
    },
    {
     "name": "stdout",
     "output_type": "stream",
     "text": [
      "Eligible\n"
     ]
    }
   ],
   "source": [
    "EligibilityForMarriage.eligible()"
   ]
  },
  {
   "cell_type": "code",
   "execution_count": 7,
   "id": "b1b485d1-a932-4c13-b29d-724785e903bf",
   "metadata": {},
   "outputs": [],
   "source": [
    "from finalassignment import FindPercent"
   ]
  },
  {
   "cell_type": "code",
   "execution_count": 8,
   "id": "047d34e5-632b-446f-80b7-8376c757d8bd",
   "metadata": {},
   "outputs": [
    {
     "name": "stdout",
     "output_type": "stream",
     "text": [
      "Total: 468\n",
      "Percentage: 93.6\n"
     ]
    }
   ],
   "source": [
    "FindPercent.percentage()"
   ]
  },
  {
   "cell_type": "code",
   "execution_count": 9,
   "id": "b1c1339b-8258-47cc-8917-a42729b8ed4d",
   "metadata": {},
   "outputs": [],
   "source": [
    "from finalassignment import Triangle"
   ]
  },
  {
   "cell_type": "code",
   "execution_count": 10,
   "id": "f9fbb9c2-67b8-49f8-a1e4-d7ae7c2f5dca",
   "metadata": {},
   "outputs": [
    {
     "name": "stdout",
     "output_type": "stream",
     "text": [
      "area of triangle: 544.0\n"
     ]
    }
   ],
   "source": [
    "Triangle.areaoftriangle()"
   ]
  },
  {
   "cell_type": "code",
   "execution_count": 11,
   "id": "d74724c4-929e-4575-9133-00a491ddb361",
   "metadata": {},
   "outputs": [
    {
     "name": "stdin",
     "output_type": "stream",
     "text": [
      "Enter the Height1: 9\n",
      "Enter the height2: 7\n",
      "Enter the Breath: 6\n"
     ]
    },
    {
     "name": "stdout",
     "output_type": "stream",
     "text": [
      "Perimeter of triangle: 22\n"
     ]
    }
   ],
   "source": [
    "Triangle.Perimeteroftriangle1()"
   ]
  },
  {
   "cell_type": "code",
   "execution_count": 12,
   "id": "c0800e22-22b4-4a6e-b60a-1201d43ec6c5",
   "metadata": {},
   "outputs": [
    {
     "name": "stdin",
     "output_type": "stream",
     "text": [
      "Enter the Height 4\n",
      "Enter the Breadth: 5\n"
     ]
    },
    {
     "name": "stdout",
     "output_type": "stream",
     "text": [
      "area of triangle: 10.0\n"
     ]
    }
   ],
   "source": [
    "Triangle.areaoftriangle1()"
   ]
  },
  {
   "cell_type": "code",
   "execution_count": null,
   "id": "9ba90e47-d51d-4c5d-a715-4ed52db03784",
   "metadata": {},
   "outputs": [],
   "source": []
  }
 ],
 "metadata": {
  "kernelspec": {
   "display_name": "Python 3 (ipykernel)",
   "language": "python",
   "name": "python3"
  },
  "language_info": {
   "codemirror_mode": {
    "name": "ipython",
    "version": 3
   },
   "file_extension": ".py",
   "mimetype": "text/x-python",
   "name": "python",
   "nbconvert_exporter": "python",
   "pygments_lexer": "ipython3",
   "version": "3.12.4"
  }
 },
 "nbformat": 4,
 "nbformat_minor": 5
}
